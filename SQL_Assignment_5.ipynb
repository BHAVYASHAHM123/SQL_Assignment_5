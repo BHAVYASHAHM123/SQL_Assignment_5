{
  "nbformat": 4,
  "nbformat_minor": 0,
  "metadata": {
    "colab": {
      "name": "SQL_Assignment_5.ipynb",
      "provenance": []
    },
    "kernelspec": {
      "name": "python3",
      "display_name": "Python 3"
    },
    "language_info": {
      "name": "python"
    }
  },
  "cells": [
    {
      "cell_type": "markdown",
      "source": [
        "Q1). Write an SQL query to print details of workers excluding first names, “Vipul” and “Satish” from Worker table.\n",
        "\n",
        "Ans) \n",
        "\n",
        "Select * from Worker where FIRST_NAME not in ('Vipul','Satish');"
      ],
      "metadata": {
        "id": "fCP43wdtMzSf"
      }
    },
    {
      "cell_type": "markdown",
      "source": [
        "Q2). Write an SQL query to print details of the Workers whose FIRST_NAME ends with ‘h’ and contains six alphabets.\n",
        "\n",
        "Ans) \n",
        "\n",
        "Select * from Worker where FIRST_NAME like '_____h';\n",
        "\n",
        "# we have to put 5 underscore"
      ],
      "metadata": {
        "id": "ktTbMKe2MzPI"
      }
    },
    {
      "cell_type": "markdown",
      "source": [
        "Q3) Write a query to validate Email of Employee.\n",
        "\n",
        "Ans) \n",
        "\n",
        "SELECT * FROM Employee WHERE s_email LIKE '%@gmail.com';"
      ],
      "metadata": {
        "id": "yme-_bSHMzMN"
      }
    },
    {
      "cell_type": "code",
      "source": [
        ""
      ],
      "metadata": {
        "id": "_JersWVsNpsQ"
      },
      "execution_count": null,
      "outputs": []
    }
  ]
}